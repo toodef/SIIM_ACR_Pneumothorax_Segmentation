{
 "cells": [
  {
   "cell_type": "code",
   "execution_count": null,
   "metadata": {},
   "outputs": [],
   "source": [
    "import sys\n",
    "sys.path.append('..')\n",
    "\n",
    "from train_config.dataset import Dataset"
   ]
  },
  {
   "cell_type": "code",
   "execution_count": null,
   "metadata": {},
   "outputs": [],
   "source": [
    "import os\n",
    "os.environ['MY_DATASET_ENV'] = ''\n",
    "\n",
    "dataset = Dataset()\n",
    "print(\"Overall images num: {}\".format(len(dataset.get_items())))"
   ]
  },
  {
   "cell_type": "markdown",
   "metadata": {},
   "source": [
    "Analyse targets in dataset"
   ]
  },
  {
   "cell_type": "code",
   "execution_count": null,
   "metadata": {},
   "outputs": [],
   "source": [
    "import matplotlib.pyplot as plt\n",
    "%matplotlib inline\n",
    "plt.rcParams[\"figure.figsize\"] = (16, 5) # (w, h)\n",
    "\n",
    "def viz_hist(analysing_dataset: Dataset) -> []:\n",
    "    labels = []\n",
    "    for item in analysing_dataset.get_items():\n",
    "        labels.append(len(item['target']))\n",
    "        \n",
    "    print('Label values', set(labels_overall))\n",
    "\n",
    "    plt.hist(labels_overall)\n",
    "    plt.set_title('labels values')\n",
    "    plt.show()\n",
    "    \n",
    "viz_hist(dataset)"
   ]
  },
  {
   "cell_type": "markdown",
   "metadata": {},
   "source": [
    "Analyse data sizes"
   ]
  },
  {
   "cell_type": "code",
   "execution_count": null,
   "metadata": {},
   "outputs": [],
   "source": [
    "images_side_sizes = []\n",
    "images_sizes = []\n",
    "\n",
    "for it in dataset:\n",
    "    images_side_sizes.append(it['data'].shape[0])\n",
    "    images_sizes.append(it['data'].shape[0] * it['data'].shape[1])\n",
    "\n",
    "print(set(images_side_sizes))\n",
    "fig, axs = plt.subplots(1,2)\n",
    "axs[0].hist(images_sizes)\n",
    "axs[0].set_title('images whole sizes')\n",
    "axs[1].hist(images_side_sizes)\n",
    "axs[1].set_title('images side sizes')\n",
    "plt.show()"
   ]
  },
  {
   "cell_type": "markdown",
   "metadata": {},
   "source": [
    "Analyse dataset train part"
   ]
  },
  {
   "cell_type": "code",
   "execution_count": null,
   "metadata": {},
   "outputs": [],
   "source": [
    "plt.rcParams[\"figure.figsize\"] = (16, 5) # (w, h)\n",
    "\n",
    "train_dataset = Dataset().load_indices('../data/indices/train_indices.npy', remove_unused=True)\n",
    "print(len(train_dataset))\n",
    "\n",
    "labels_overall, labels_per_image, labels_per_image_overall = viz_hist(train_dataset)"
   ]
  },
  {
   "cell_type": "markdown",
   "metadata": {},
   "source": [
    "Analyse dataset validation part"
   ]
  },
  {
   "cell_type": "code",
   "execution_count": null,
   "metadata": {},
   "outputs": [],
   "source": [
    "plt.rcParams[\"figure.figsize\"] = (16, 5) # (w, h)\n",
    "\n",
    "val_dataset = Dataset().load_indices('../data/indices/val_indices.npy', remove_unused=True)\n",
    "print(len(val_dataset))\n",
    "\n",
    "viz_hist(val_dataset)"
   ]
  },
  {
   "cell_type": "markdown",
   "metadata": {},
   "source": [
    "Analyse dataset test part"
   ]
  },
  {
   "cell_type": "code",
   "execution_count": null,
   "metadata": {},
   "outputs": [],
   "source": [
    "plt.rcParams[\"figure.figsize\"] = (16, 5) # (w, h)\n",
    "\n",
    "val_dataset = Dataset().load_indices('../data/indices/test_indices.npy', remove_unused=True)\n",
    "print(len(val_dataset))\n",
    "\n",
    "viz_hist(val_dataset)"
   ]
  }
 ],
 "metadata": {
  "kernelspec": {
   "display_name": "Python 3",
   "language": "python",
   "name": "python3"
  },
  "language_info": {
   "codemirror_mode": {
    "name": "ipython",
    "version": 3
   },
   "file_extension": ".py",
   "mimetype": "text/x-python",
   "name": "python",
   "nbconvert_exporter": "python",
   "pygments_lexer": "ipython3",
   "version": "3.6.8"
  }
 },
 "nbformat": 4,
 "nbformat_minor": 2
}
